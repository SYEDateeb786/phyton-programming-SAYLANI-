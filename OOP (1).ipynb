{
 "cells": [
  {
   "cell_type": "code",
   "execution_count": 23,
   "metadata": {},
   "outputs": [
    {
     "name": "stdout",
     "output_type": "stream",
     "text": [
      "No\n",
      "20 kilometers per liter\n",
      "The car name is audi. Model of car A8 and car color is brown\n"
     ]
    },
    {
     "data": {
      "text/plain": [
       "'carola'"
      ]
     },
     "execution_count": 23,
     "metadata": {},
     "output_type": "execute_result"
    }
   ],
   "source": [
    "#inheritance\n",
    "\n",
    "class Car():\n",
    "    def __init__(self,name,model,color):\n",
    "        self.name = name\n",
    "        self.model = model\n",
    "        self.color = color\n",
    "        \n",
    "    def average(self,kilo):\n",
    "        print(\"{} kilometers per liter\".format(kilo))\n",
    "        \n",
    "    def tank(self):\n",
    "        print(\"yes\")\n",
    "        \n",
    "class Electric_car(Car):\n",
    "    def __init__(self,name,model,color):\n",
    "        super().__init__(name,model,color)\n",
    "    \n",
    "    def tank(self):\n",
    "        print(\"No\")\n",
    "        \n",
    "    def get_description(self):\n",
    "        print(\"The car name is {}. Model of car {} and car color is {}\".format(self.name,self.model,self.color))\n",
    "        \n",
    "car1 = Car('audi','A3','black')\n",
    "\n",
    "new_car = Electric_car('audi','A8','brown')\n",
    "\n",
    "new_car.tank()\n",
    "new_car.average(20)\n",
    "new_car.get_description()\n",
    "\n",
    "car1.name\n",
    "car1.name"
   ]
  },
  {
   "cell_type": "code",
   "execution_count": 24,
   "metadata": {},
   "outputs": [
    {
     "name": "stdout",
     "output_type": "stream",
     "text": [
      "30 kilometers per Liter\n",
      "30 kilometers per Liter\n",
      "35 kilometers per Liter\n"
     ]
    }
   ],
   "source": [
    "#encapsulation\n",
    "\n",
    "class NewCar():\n",
    "    def __init__(self):\n",
    "        self.__maxAverage = 30\n",
    "        \n",
    "    def average(self):\n",
    "        print(\"{} kilometers per Liter\".format(self.__maxAverage))\n",
    "        \n",
    "    def updateAverage(self,updated_value):\n",
    "        self.__maxAverage = updated_value\n",
    "        \n",
    "obj = NewCar()\n",
    "\n",
    "obj.average()\n",
    "\n",
    "obj.__maxAverage = 60\n",
    "\n",
    "obj.average()\n",
    "\n",
    "obj.updateAverage(35)\n",
    "\n",
    "obj.average()\n",
    "        "
   ]
  },
  {
   "cell_type": "code",
   "execution_count": 27,
   "metadata": {},
   "outputs": [
    {
     "name": "stdout",
     "output_type": "stream",
     "text": [
      "The capital of pakistan Islamabad. population of pakistan of 20 core\n",
      "The capital of USA is Washington DC and population of USA 40 core\n"
     ]
    }
   ],
   "source": [
    "#polymorpism\n",
    "\n",
    "class Pakistan():\n",
    "    def detail(self):\n",
    "        print(\"The capital of pakistan Islamabad. population of pakistan of 20 core\")\n",
    "        \n",
    "class USA():\n",
    "    def detail(self):\n",
    "        print(\"The capital of USA is Washington DC and population of USA 40 core\")\n",
    "        \n",
    "        \n",
    "def description(country):\n",
    "    country.detail()\n",
    "    \n",
    "pak = Pakistan()\n",
    "usa = USA()\n",
    "\n",
    "description(pak)\n",
    "description(usa)"
   ]
  },
  {
   "cell_type": "code",
   "execution_count": 31,
   "metadata": {},
   "outputs": [
    {
     "name": "stdout",
     "output_type": "stream",
     "text": [
      "6\n"
     ]
    }
   ],
   "source": [
    "class OverloadingDemo():\n",
    "    def sum(self,a=None,b=None,c=None):\n",
    "        if a!= None and b!= None and c!=None:\n",
    "            print(a+b+c)\n",
    "        elif a!= None and b!= None:\n",
    "            print(a+b)\n",
    "        \n",
    "        \n",
    "        \n",
    "obj3 = OverloadingDemo()\n",
    "\n",
    "obj3.sum(2,4)\n",
    "    "
   ]
  },
  {
   "cell_type": "code",
   "execution_count": 32,
   "metadata": {},
   "outputs": [
    {
     "name": "stdout",
     "output_type": "stream",
     "text": [
      "8\n",
      "4\n"
     ]
    }
   ],
   "source": [
    "print(len(\"muhammad\"))\n",
    "print(len([1,2,3,4]))"
   ]
  },
  {
   "cell_type": "code",
   "execution_count": 37,
   "metadata": {},
   "outputs": [
    {
     "name": "stdout",
     "output_type": "stream",
     "text": [
      "he gives 6 tola\n",
      "valima going on\n"
     ]
    }
   ],
   "source": [
    "#abstraction\n",
    "\n",
    "from abc import ABC,abstractmethod\n",
    "\n",
    "class Nikkah(ABC):\n",
    "    \n",
    "    @abstractmethod\n",
    "    def haqmaher(self):\n",
    "        pass\n",
    "    \n",
    "class Human1(Nikkah):\n",
    "    def haqmaher(self,tola):\n",
    "        print(\"he gives \" + str(tola) + \" tola\")\n",
    "\n",
    "    def valima(self):\n",
    "        print(\"valima going on\")\n",
    "        \n",
    "obj6 = Human1()\n",
    "\n",
    "obj6.haqmaher(6)\n",
    "obj6.valima()"
   ]
  },
  {
   "cell_type": "code",
   "execution_count": 40,
   "metadata": {},
   "outputs": [
    {
     "name": "stdout",
     "output_type": "stream",
     "text": [
      "\n",
      "__________________________________________\n",
      "\n",
      "-> 12\n",
      "-> umer\n",
      "-> 22222\n",
      "-> 11111\n",
      "ku university\n",
      "\n",
      "__________________________________________\n",
      "\n",
      "-> 19\n",
      "-> ateeb\n",
      "-> 107\n",
      "smi university\n",
      "\n",
      "__________________________________________\n",
      "\n",
      "-> 21\n",
      "-> ammar\n",
      "-> 1999\n",
      "ssuet university\n",
      "ssuet university\n"
     ]
    }
   ],
   "source": [
    "class a():\n",
    "    def __init__(self,name,age,roll):\n",
    "        self.name = name\n",
    "        self.roll= roll\n",
    "        self.age = age\n",
    "        self.uni = \"iqra uni\"\n",
    "    def uniname(self,newname):\n",
    "        self.uni = newname\n",
    "    def updateroll(self,rollnew):\n",
    "        self.roll =rollnew\n",
    "    \n",
    "stud1 = a(\"umer\",12,\"22222\")\n",
    "\n",
    "\n",
    "print(\"\\n__________________________________________\\n\")\n",
    "print(\"->\",stud1.age)\n",
    "print(\"->\",stud1.name)\n",
    "print(\"->\",stud1.roll)\n",
    "stud1.updateroll(11111)\n",
    "print(\"->\",stud1.roll)\n",
    "\n",
    "stud1.uniname(\"ku university\")\n",
    "print(stud1.uni)\n",
    "\n",
    "\n",
    "\n",
    "\n",
    "       \n",
    "stud2 = a(\"ateeb\",19,107)\n",
    "\n",
    "print(\"\\n__________________________________________\\n\")\n",
    "print(\"->\",stud2.age)\n",
    "print(\"->\",stud2.name)\n",
    "print(\"->\",stud2.roll)\n",
    "stud2.uniname(\"smi university\")\n",
    "\n",
    "print(stud2.uni)\n",
    "\n",
    "\n",
    "\n",
    "\n",
    "stud3 = a(\"ammar\",21,1999)\n",
    "stud3.uniname(\"ssuet university\")\n",
    "\n",
    "print(\"\\n__________________________________________\\n\")\n",
    "print(\"->\",stud3.age)\n",
    "\n",
    "print(\"->\",stud3.name)\n",
    "print(\"->\",stud3.roll)\n",
    "print(stud3.uni)\n",
    "print(stud3.uni)\n",
    "\n",
    "\n",
    "\n",
    "\n"
   ]
  },
  {
   "cell_type": "code",
   "execution_count": 36,
   "metadata": {},
   "outputs": [
    {
     "name": "stdout",
     "output_type": "stream",
     "text": [
      "12 kilometers per liter\n",
      "yes tank\n",
      "no tank\n",
      "9 kilometers per liter\n",
      "The bike name is SAA.\n",
      " Model of bike 2020 .\n",
      " bike color is black\n",
      "\n",
      "______________________________________________________\n",
      "\n",
      "honda\n",
      "2019 superstar black\n"
     ]
    }
   ],
   "source": [
    "#inheritance\n",
    "#bike\n",
    "class bike():\n",
    "    def __init__(self,name,model,colour):\n",
    "      self.name = name\n",
    "      self.model = model\n",
    "      self.colour = colour\n",
    "    def avarage(self,kilo):    \n",
    "        print(\"{} kilometers per liter\".format(kilo))\n",
    "    def tank(self):\n",
    "        print(\"yes tank\")\n",
    "#ebike\n",
    "class  electro_bike(bike):\n",
    "     def __init__(self,name,model,colour):\n",
    "            super().__init__(name,model,colour)\n",
    "\n",
    "     def tank(self):\n",
    "        print(\"no tank\")\n",
    "        \n",
    "     def get_decri(self):\n",
    "         print(\"The bike name is {}.\\n Model of bike {} .\\n bike color is {}\".format(self.name,self.model,self.colour))\n",
    "\n",
    "        \n",
    "        \n",
    "        \n",
    "        \n",
    "#class bike \n",
    "bike1 = bike(\"honda\",2019,\"black\")\n",
    "bike1.model\n",
    "\n",
    "bike1.avarage(12)\n",
    "\n",
    "bike1.tank()\n",
    "bike1.model\n",
    "#class electro bike\n",
    "new_bike = electro_bike(\"SAA\",2020,\"black\")\n",
    "new_bike.tank()\n",
    "new_bike.avarage(9)\n",
    "new_bike.get_decri()\n",
    "\n",
    "\n",
    "print(\"\\n______________________________________________________\\n\")             \n",
    "print(bike1.name)\n",
    "\n",
    "bike1.name = \"superstar\"\n",
    "print(bike1.model,bike1.name,bike1.colour)\n"
   ]
  },
  {
   "cell_type": "code",
   "execution_count": 7,
   "metadata": {},
   "outputs": [
    {
     "name": "stdout",
     "output_type": "stream",
     "text": [
      "31 kilometer per liter\n",
      "31 kilometer per liter\n",
      "50 kilometer per liter\n"
     ]
    }
   ],
   "source": [
    "#encapsualtion\n",
    "class newbike():\n",
    "    def __init__(self):\n",
    "        self.__maxAverage = 31\n",
    "    def average(self):\n",
    "       print(\"{} kilometer per liter\".format(self.__maxAverage))\n",
    "\n",
    "    def upaverage(self,up_value):\n",
    "         self.__maxAverage = up_value\n",
    "\n",
    "obj = newbike()\n",
    "\n",
    "obj.average()\n",
    "obj.__maxAverage = 31\n",
    "obj.average()\n",
    "obj.upaverage(50)\n",
    "obj.average()\n"
   ]
  },
  {
   "cell_type": "code",
   "execution_count": 11,
   "metadata": {},
   "outputs": [
    {
     "name": "stdout",
     "output_type": "stream",
     "text": [
      "the capital of pakistan is islamabad.population of pakistan is 20 core\n",
      "the capital of usa is dc.population of usa is 40 core\n"
     ]
    }
   ],
   "source": [
    "#polymorpism\n",
    "\n",
    "class pakistan() :\n",
    "    def detail(self):\n",
    "        print(\"the capital of pakistan is islamabad.population of pakistan is 20 core\")\n",
    "class usa():\n",
    "    def detail(self):\n",
    "      print(\"the capital of usa is dc.population of usa is 40 core\")\n",
    "def des(country):\n",
    "    country.detail()\n",
    "pak = pakistan() \n",
    "usal = usa()\n",
    "des(pak)\n",
    "des(usal)"
   ]
  },
  {
   "cell_type": "code",
   "execution_count": 45,
   "metadata": {},
   "outputs": [
    {
     "name": "stdout",
     "output_type": "stream",
     "text": [
      "12\n"
     ]
    }
   ],
   "source": [
    "#overloading\n",
    "\n",
    "class overload():\n",
    "    def sum(self,a=None,b=None,c=None):\n",
    "        if a!=None and b!=None and c!=None:\n",
    "            print(a+b+c)\n",
    "        elif a!=None and b!=None:\n",
    "            print(a+b)\n",
    "    \n",
    "obk = overload()\n",
    "obk.sum(3,4,5)"
   ]
  },
  {
   "cell_type": "code",
   "execution_count": 54,
   "metadata": {},
   "outputs": [
    {
     "name": "stdout",
     "output_type": "stream",
     "text": [
      "15\n",
      "5\n",
      "8\n",
      "4\n"
     ]
    }
   ],
   "source": [
    "#count any number polymorpism example\n",
    "print(len(\"muhammadali ali\"))\n",
    "print(len(\"12345\"))\n",
    "print(len(\"muhammad\"))\n",
    "print(len({1,2,3,5}))"
   ]
  },
  {
   "cell_type": "code",
   "execution_count": 108,
   "metadata": {},
   "outputs": [
    {
     "name": "stdout",
     "output_type": "stream",
     "text": [
      "he give  2  tola\n",
      "valima go on\n",
      "he give  9.23  tola\n"
     ]
    }
   ],
   "source": [
    "#abstraction\n",
    "\n",
    "from abc import ABC,abstractmethod\n",
    "\n",
    "\n",
    "class Bikkah(ABC):\n",
    "   @abstractmethod\n",
    "   def haqmaher1(self):\n",
    "        pass\n",
    "#h1\n",
    "class Human1(Bikkah):\n",
    "    def haqmaher1(self,tola):\n",
    "       print(\"he give  \" + str(tola) + \"  tola\")\n",
    "\n",
    "    def valima(self):\n",
    "        print(\"valima go on\")\n",
    "        \n",
    "        \n",
    "#h2        \n",
    "class human2(Bikkah):\n",
    "   def haqmaher1(self,tola):\n",
    "       print(\"he give  \" + str(tola) + \"  tola\")        \n",
    "        \n",
    "obj1 = Human1()  \n",
    "obj1.haqmaher1(2)\n",
    "obj1.valima()\n",
    "\n",
    "obk = human2()\n",
    "obk.haqmaher1(9.23)"
   ]
  },
  {
   "cell_type": "code",
   "execution_count": null,
   "metadata": {},
   "outputs": [],
   "source": []
  }
 ],
 "metadata": {
  "kernelspec": {
   "display_name": "Python 3",
   "language": "python",
   "name": "python3"
  },
  "language_info": {
   "codemirror_mode": {
    "name": "ipython",
    "version": 3
   },
   "file_extension": ".py",
   "mimetype": "text/x-python",
   "name": "python",
   "nbconvert_exporter": "python",
   "pygments_lexer": "ipython3",
   "version": "3.7.4"
  }
 },
 "nbformat": 4,
 "nbformat_minor": 2
}
