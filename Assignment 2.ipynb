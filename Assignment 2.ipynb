{
 "cells": [
  {
   "cell_type": "code",
   "execution_count": 10,
   "metadata": {},
   "outputs": [
    {
     "name": "stdout",
     "output_type": "stream",
     "text": [
      "enter marks out of 100 79\n",
      "enter marks out of 100 98\n",
      "enter marks out of 100 76\n",
      "enter marks out of 100 64\n",
      "enter marks out of 100 45\n",
      "totalmarks = 362\n",
      "percentage = 72.39999999999999\n",
      "grade B\n"
     ]
    }
   ],
   "source": [
    "# question 01\n",
    "marks=[]\n",
    "totalmarks=0;\n",
    "for i in range (5):\n",
    "    x=int(input(\"enter marks out of 100 \"))\n",
    "  \n",
    "    marks.append(x)\n",
    "    totalmarks+=x\n",
    "\n",
    "print(\"totalmarks =\",totalmarks)  \n",
    "percentage=(totalmarks/500)*100\n",
    "print(\"percentage =\",percentage)\n",
    "if percentage>=90:\n",
    "    print(\"grade A+\")\n",
    "elif percentage>=80:\n",
    "    print(\"grade A\")\n",
    "elif percentage>=70:\n",
    "    print(\"grade B\")    \n",
    "elif percentage>=60:\n",
    "    print(\"grade C\")\n",
    "elif percentage>=50:\n",
    "    print(\"grade D\")\n",
    "else:\n",
    "    print(\"fail\") "
   ]
  },
  {
   "cell_type": "code",
   "execution_count": 12,
   "metadata": {},
   "outputs": [
    {
     "name": "stdout",
     "output_type": "stream",
     "text": [
      "enter number8\n",
      "even no\n"
     ]
    }
   ],
   "source": [
    "# question 02\n",
    "x=int(input(\"enter number\"))\n",
    "if x%2==0:\n",
    "    print(\"even no\")\n",
    "else:\n",
    "    print(\"odd no\")\n",
    "    "
   ]
  },
  {
   "cell_type": "code",
   "execution_count": 13,
   "metadata": {},
   "outputs": [
    {
     "name": "stdout",
     "output_type": "stream",
     "text": [
      "5\n"
     ]
    }
   ],
   "source": [
    "# question 03\n",
    "list=[66,34,33,47,51]\n",
    "print(len(list))"
   ]
  },
  {
   "cell_type": "code",
   "execution_count": 14,
   "metadata": {},
   "outputs": [
    {
     "name": "stdout",
     "output_type": "stream",
     "text": [
      "sum of list= 231\n"
     ]
    }
   ],
   "source": [
    "# question 04\n",
    "list=[66,34,33,47,51]\n",
    "x=len(list)\n",
    "total=0\n",
    "for i in range (x):\n",
    "    total+=list[i]\n",
    "print(\"sum of list=\",total)"
   ]
  },
  {
   "cell_type": "code",
   "execution_count": 15,
   "metadata": {},
   "outputs": [
    {
     "name": "stdout",
     "output_type": "stream",
     "text": [
      "66\n"
     ]
    }
   ],
   "source": [
    "# question 05\n",
    "list=[66,34,33,47,51]\n",
    "print(max(list))"
   ]
  },
  {
   "cell_type": "code",
   "execution_count": 16,
   "metadata": {},
   "outputs": [
    {
     "name": "stdout",
     "output_type": "stream",
     "text": [
      "1\n",
      "1\n",
      "2\n",
      "3\n"
     ]
    }
   ],
   "source": [
    "#  question 06\n",
    "list=[1,1,2,3,5,8,13,21,34,55,89]\n",
    "x=len(list)\n",
    "for i in range(x):\n",
    "    if list[i]<5:\n",
    "        print(list[i])"
   ]
  },
  {
   "cell_type": "code",
   "execution_count": null,
   "metadata": {},
   "outputs": [],
   "source": []
  }
 ],
 "metadata": {
  "kernelspec": {
   "display_name": "Python 3",
   "language": "python",
   "name": "python3"
  },
  "language_info": {
   "codemirror_mode": {
    "name": "ipython",
    "version": 3
   },
   "file_extension": ".py",
   "mimetype": "text/x-python",
   "name": "python",
   "nbconvert_exporter": "python",
   "pygments_lexer": "ipython3",
   "version": "3.7.1"
  }
 },
 "nbformat": 4,
 "nbformat_minor": 2
}
